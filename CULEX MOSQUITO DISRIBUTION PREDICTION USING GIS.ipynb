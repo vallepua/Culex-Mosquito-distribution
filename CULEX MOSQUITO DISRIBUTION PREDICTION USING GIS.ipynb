{
 "cells": [
  {
   "cell_type": "markdown",
   "id": "c1783870",
   "metadata": {},
   "source": [
    "CULEX MOSQUITO DISTRIBUTION PREDICTION USING GIS APPROCH"
   ]
  },
  {
   "cell_type": "markdown",
   "id": "4e196f9e",
   "metadata": {},
   "source": [
    "TEAM MEMBERS:\n",
    "ANIL VALLEPU and \n",
    "SAI SANDEEP ADI \n",
    "    \n",
    "PROJECT GUIDE(MENTOR):\n",
    "PRO.ZHENG WEI"
   ]
  },
  {
   "cell_type": "code",
   "execution_count": 1,
   "id": "fe72af2e",
   "metadata": {},
   "outputs": [
    {
     "name": "stdout",
     "output_type": "stream",
     "text": [
      "Requirement already satisfied: arcgis in ./Downloads/anaconda3/lib/python3.11/site-packages (2.2.0.1)\n",
      "Requirement already satisfied: pillow in ./Downloads/anaconda3/lib/python3.11/site-packages (from arcgis) (9.4.0)\n",
      "Requirement already satisfied: urllib3<3,>=1.21.1 in ./Downloads/anaconda3/lib/python3.11/site-packages (from arcgis) (1.26.16)\n",
      "Requirement already satisfied: cachetools in ./Downloads/anaconda3/lib/python3.11/site-packages (from arcgis) (5.3.2)\n",
      "Requirement already satisfied: lxml in ./Downloads/anaconda3/lib/python3.11/site-packages (from arcgis) (4.9.3)\n",
      "Requirement already satisfied: notebook in ./Downloads/anaconda3/lib/python3.11/site-packages (from arcgis) (6.5.4)\n",
      "Requirement already satisfied: cryptography in ./Downloads/anaconda3/lib/python3.11/site-packages (from arcgis) (41.0.3)\n",
      "Requirement already satisfied: ipywidgets<8,>=7 in ./Downloads/anaconda3/lib/python3.11/site-packages (from arcgis) (7.8.1)\n",
      "Requirement already satisfied: widgetsnbextension>=3 in ./Downloads/anaconda3/lib/python3.11/site-packages (from arcgis) (3.6.6)\n",
      "Requirement already satisfied: jupyter-client<=6.1.12 in ./Downloads/anaconda3/lib/python3.11/site-packages (from arcgis) (6.1.12)\n",
      "Requirement already satisfied: pandas<3,>=2.0.0 in ./Downloads/anaconda3/lib/python3.11/site-packages (from arcgis) (2.0.3)\n",
      "Requirement already satisfied: numpy>=1.21.6 in ./Downloads/anaconda3/lib/python3.11/site-packages (from arcgis) (1.24.3)\n",
      "Requirement already satisfied: matplotlib in ./Downloads/anaconda3/lib/python3.11/site-packages (from arcgis) (3.7.2)\n",
      "Requirement already satisfied: keyring>=23.3.0 in ./Downloads/anaconda3/lib/python3.11/site-packages (from arcgis) (23.13.1)\n",
      "Requirement already satisfied: pylerc in ./Downloads/anaconda3/lib/python3.11/site-packages (from arcgis) (4.0)\n",
      "Requirement already satisfied: ujson>=3 in ./Downloads/anaconda3/lib/python3.11/site-packages (from arcgis) (5.4.0)\n",
      "Requirement already satisfied: jupyterlab in ./Downloads/anaconda3/lib/python3.11/site-packages (from arcgis) (3.6.3)\n",
      "Requirement already satisfied: pyshp>=2 in ./Downloads/anaconda3/lib/python3.11/site-packages (from arcgis) (2.3.1)\n",
      "Requirement already satisfied: geomet in ./Downloads/anaconda3/lib/python3.11/site-packages (from arcgis) (1.1.0)\n",
      "Requirement already satisfied: requests<3,>=2.27.1 in ./Downloads/anaconda3/lib/python3.11/site-packages (from arcgis) (2.31.0)\n",
      "Requirement already satisfied: requests-oauthlib in ./Downloads/anaconda3/lib/python3.11/site-packages (from arcgis) (1.3.1)\n",
      "Requirement already satisfied: requests-toolbelt in ./Downloads/anaconda3/lib/python3.11/site-packages (from arcgis) (1.0.0)\n",
      "Requirement already satisfied: pyspnego>=0.8.0 in ./Downloads/anaconda3/lib/python3.11/site-packages (from arcgis) (0.10.2)\n",
      "Requirement already satisfied: requests-kerberos in ./Downloads/anaconda3/lib/python3.11/site-packages (from arcgis) (0.14.0)\n",
      "Requirement already satisfied: requests-gssapi in ./Downloads/anaconda3/lib/python3.11/site-packages (from arcgis) (1.2.3)\n",
      "Requirement already satisfied: dask>=2023.3.2 in ./Downloads/anaconda3/lib/python3.11/site-packages (from arcgis) (2023.6.0)\n",
      "Requirement already satisfied: matplotlib-inline in ./Downloads/anaconda3/lib/python3.11/site-packages (from arcgis) (0.1.6)\n",
      "Requirement already satisfied: truststore>=0.7.0 in ./Downloads/anaconda3/lib/python3.11/site-packages (from arcgis) (0.8.0)\n",
      "Requirement already satisfied: click>=8.0 in ./Downloads/anaconda3/lib/python3.11/site-packages (from dask>=2023.3.2->arcgis) (8.0.4)\n",
      "Requirement already satisfied: cloudpickle>=1.5.0 in ./Downloads/anaconda3/lib/python3.11/site-packages (from dask>=2023.3.2->arcgis) (2.2.1)\n",
      "Requirement already satisfied: fsspec>=2021.09.0 in ./Downloads/anaconda3/lib/python3.11/site-packages (from dask>=2023.3.2->arcgis) (2023.4.0)\n",
      "Requirement already satisfied: packaging>=20.0 in ./Downloads/anaconda3/lib/python3.11/site-packages (from dask>=2023.3.2->arcgis) (23.1)\n",
      "Requirement already satisfied: partd>=1.2.0 in ./Downloads/anaconda3/lib/python3.11/site-packages (from dask>=2023.3.2->arcgis) (1.4.0)\n",
      "Requirement already satisfied: pyyaml>=5.3.1 in ./Downloads/anaconda3/lib/python3.11/site-packages (from dask>=2023.3.2->arcgis) (6.0)\n",
      "Requirement already satisfied: toolz>=0.10.0 in ./Downloads/anaconda3/lib/python3.11/site-packages (from dask>=2023.3.2->arcgis) (0.12.0)\n",
      "Requirement already satisfied: importlib-metadata>=4.13.0 in ./Downloads/anaconda3/lib/python3.11/site-packages (from dask>=2023.3.2->arcgis) (6.0.0)\n",
      "Requirement already satisfied: comm>=0.1.3 in ./Downloads/anaconda3/lib/python3.11/site-packages (from ipywidgets<8,>=7->arcgis) (0.2.0)\n",
      "Requirement already satisfied: ipython-genutils~=0.2.0 in ./Downloads/anaconda3/lib/python3.11/site-packages (from ipywidgets<8,>=7->arcgis) (0.2.0)\n",
      "Requirement already satisfied: traitlets>=4.3.1 in ./Downloads/anaconda3/lib/python3.11/site-packages (from ipywidgets<8,>=7->arcgis) (5.7.1)\n",
      "Requirement already satisfied: ipython>=4.0.0 in ./Downloads/anaconda3/lib/python3.11/site-packages (from ipywidgets<8,>=7->arcgis) (8.15.0)\n",
      "Requirement already satisfied: jupyterlab-widgets<3,>=1.0.0 in ./Downloads/anaconda3/lib/python3.11/site-packages (from ipywidgets<8,>=7->arcgis) (1.1.7)\n",
      "Requirement already satisfied: jupyter-core>=4.6.0 in ./Downloads/anaconda3/lib/python3.11/site-packages (from jupyter-client<=6.1.12->arcgis) (5.3.0)\n",
      "Requirement already satisfied: pyzmq>=13 in ./Downloads/anaconda3/lib/python3.11/site-packages (from jupyter-client<=6.1.12->arcgis) (23.2.0)\n",
      "Requirement already satisfied: python-dateutil>=2.1 in ./Downloads/anaconda3/lib/python3.11/site-packages (from jupyter-client<=6.1.12->arcgis) (2.8.2)\n",
      "Requirement already satisfied: tornado>=4.1 in ./Downloads/anaconda3/lib/python3.11/site-packages (from jupyter-client<=6.1.12->arcgis) (6.3.2)\n",
      "Requirement already satisfied: jaraco.classes in ./Downloads/anaconda3/lib/python3.11/site-packages (from keyring>=23.3.0->arcgis) (3.2.1)\n",
      "Requirement already satisfied: pytz>=2020.1 in ./Downloads/anaconda3/lib/python3.11/site-packages (from pandas<3,>=2.0.0->arcgis) (2023.3.post1)\n",
      "Requirement already satisfied: tzdata>=2022.1 in ./Downloads/anaconda3/lib/python3.11/site-packages (from pandas<3,>=2.0.0->arcgis) (2023.3)\n",
      "Requirement already satisfied: charset-normalizer<4,>=2 in ./Downloads/anaconda3/lib/python3.11/site-packages (from requests<3,>=2.27.1->arcgis) (2.0.4)\n",
      "Requirement already satisfied: idna<4,>=2.5 in ./Downloads/anaconda3/lib/python3.11/site-packages (from requests<3,>=2.27.1->arcgis) (3.4)\n",
      "Requirement already satisfied: certifi>=2017.4.17 in ./Downloads/anaconda3/lib/python3.11/site-packages (from requests<3,>=2.27.1->arcgis) (2023.7.22)\n",
      "Requirement already satisfied: jinja2 in ./Downloads/anaconda3/lib/python3.11/site-packages (from notebook->arcgis) (3.1.2)\n",
      "Requirement already satisfied: argon2-cffi in ./Downloads/anaconda3/lib/python3.11/site-packages (from notebook->arcgis) (21.3.0)\n",
      "Requirement already satisfied: nbformat in ./Downloads/anaconda3/lib/python3.11/site-packages (from notebook->arcgis) (5.9.2)\n",
      "Requirement already satisfied: nbconvert>=5 in ./Downloads/anaconda3/lib/python3.11/site-packages (from notebook->arcgis) (6.5.4)\n",
      "Requirement already satisfied: nest-asyncio>=1.5 in ./Downloads/anaconda3/lib/python3.11/site-packages (from notebook->arcgis) (1.5.6)\n",
      "Requirement already satisfied: ipykernel in ./Downloads/anaconda3/lib/python3.11/site-packages (from notebook->arcgis) (6.25.0)\n",
      "Requirement already satisfied: Send2Trash>=1.8.0 in ./Downloads/anaconda3/lib/python3.11/site-packages (from notebook->arcgis) (1.8.0)\n",
      "Requirement already satisfied: terminado>=0.8.3 in ./Downloads/anaconda3/lib/python3.11/site-packages (from notebook->arcgis) (0.17.1)\n",
      "Requirement already satisfied: prometheus-client in ./Downloads/anaconda3/lib/python3.11/site-packages (from notebook->arcgis) (0.14.1)\n",
      "Requirement already satisfied: nbclassic>=0.4.7 in ./Downloads/anaconda3/lib/python3.11/site-packages (from notebook->arcgis) (0.5.5)\n",
      "Requirement already satisfied: cffi>=1.12 in ./Downloads/anaconda3/lib/python3.11/site-packages (from cryptography->arcgis) (1.15.1)\n",
      "Requirement already satisfied: jupyterlab-server~=2.19 in ./Downloads/anaconda3/lib/python3.11/site-packages (from jupyterlab->arcgis) (2.22.0)\n",
      "Requirement already satisfied: jupyter-server<3,>=1.16.0 in ./Downloads/anaconda3/lib/python3.11/site-packages (from jupyterlab->arcgis) (1.23.4)\n",
      "Requirement already satisfied: jupyter-ydoc~=0.2.3 in ./Downloads/anaconda3/lib/python3.11/site-packages (from jupyterlab->arcgis) (0.2.4)\n",
      "Requirement already satisfied: jupyter-server-ydoc~=0.8.0 in ./Downloads/anaconda3/lib/python3.11/site-packages (from jupyterlab->arcgis) (0.8.0)\n",
      "Requirement already satisfied: contourpy>=1.0.1 in ./Downloads/anaconda3/lib/python3.11/site-packages (from matplotlib->arcgis) (1.0.5)\n",
      "Requirement already satisfied: cycler>=0.10 in ./Downloads/anaconda3/lib/python3.11/site-packages (from matplotlib->arcgis) (0.11.0)\n",
      "Requirement already satisfied: fonttools>=4.22.0 in ./Downloads/anaconda3/lib/python3.11/site-packages (from matplotlib->arcgis) (4.25.0)\n",
      "Requirement already satisfied: kiwisolver>=1.0.1 in ./Downloads/anaconda3/lib/python3.11/site-packages (from matplotlib->arcgis) (1.4.4)\n",
      "Requirement already satisfied: pyparsing<3.1,>=2.3.1 in ./Downloads/anaconda3/lib/python3.11/site-packages (from matplotlib->arcgis) (3.0.9)\n"
     ]
    },
    {
     "name": "stdout",
     "output_type": "stream",
     "text": [
      "Requirement already satisfied: gssapi in ./Downloads/anaconda3/lib/python3.11/site-packages (from requests-gssapi->arcgis) (1.8.3)\n",
      "Requirement already satisfied: oauthlib>=3.0.0 in ./Downloads/anaconda3/lib/python3.11/site-packages (from requests-oauthlib->arcgis) (3.2.2)\n",
      "Requirement already satisfied: pycparser in ./Downloads/anaconda3/lib/python3.11/site-packages (from cffi>=1.12->cryptography->arcgis) (2.21)\n",
      "Requirement already satisfied: zipp>=0.5 in ./Downloads/anaconda3/lib/python3.11/site-packages (from importlib-metadata>=4.13.0->dask>=2023.3.2->arcgis) (3.11.0)\n",
      "Requirement already satisfied: backcall in ./Downloads/anaconda3/lib/python3.11/site-packages (from ipython>=4.0.0->ipywidgets<8,>=7->arcgis) (0.2.0)\n",
      "Requirement already satisfied: decorator in ./Downloads/anaconda3/lib/python3.11/site-packages (from ipython>=4.0.0->ipywidgets<8,>=7->arcgis) (5.1.1)\n",
      "Requirement already satisfied: jedi>=0.16 in ./Downloads/anaconda3/lib/python3.11/site-packages (from ipython>=4.0.0->ipywidgets<8,>=7->arcgis) (0.18.1)\n",
      "Requirement already satisfied: pickleshare in ./Downloads/anaconda3/lib/python3.11/site-packages (from ipython>=4.0.0->ipywidgets<8,>=7->arcgis) (0.7.5)\n",
      "Requirement already satisfied: prompt-toolkit!=3.0.37,<3.1.0,>=3.0.30 in ./Downloads/anaconda3/lib/python3.11/site-packages (from ipython>=4.0.0->ipywidgets<8,>=7->arcgis) (3.0.36)\n",
      "Requirement already satisfied: pygments>=2.4.0 in ./Downloads/anaconda3/lib/python3.11/site-packages (from ipython>=4.0.0->ipywidgets<8,>=7->arcgis) (2.15.1)\n",
      "Requirement already satisfied: stack-data in ./Downloads/anaconda3/lib/python3.11/site-packages (from ipython>=4.0.0->ipywidgets<8,>=7->arcgis) (0.2.0)\n",
      "Requirement already satisfied: pexpect>4.3 in ./Downloads/anaconda3/lib/python3.11/site-packages (from ipython>=4.0.0->ipywidgets<8,>=7->arcgis) (4.8.0)\n",
      "Requirement already satisfied: appnope in ./Downloads/anaconda3/lib/python3.11/site-packages (from ipython>=4.0.0->ipywidgets<8,>=7->arcgis) (0.1.2)\n",
      "Requirement already satisfied: MarkupSafe>=2.0 in ./Downloads/anaconda3/lib/python3.11/site-packages (from jinja2->notebook->arcgis) (2.1.1)\n",
      "Requirement already satisfied: platformdirs>=2.5 in ./Downloads/anaconda3/lib/python3.11/site-packages (from jupyter-core>=4.6.0->jupyter-client<=6.1.12->arcgis) (3.10.0)\n",
      "Requirement already satisfied: anyio<4,>=3.1.0 in ./Downloads/anaconda3/lib/python3.11/site-packages (from jupyter-server<3,>=1.16.0->jupyterlab->arcgis) (3.5.0)\n",
      "Requirement already satisfied: websocket-client in ./Downloads/anaconda3/lib/python3.11/site-packages (from jupyter-server<3,>=1.16.0->jupyterlab->arcgis) (0.58.0)\n",
      "Requirement already satisfied: jupyter-server-fileid<1,>=0.6.0 in ./Downloads/anaconda3/lib/python3.11/site-packages (from jupyter-server-ydoc~=0.8.0->jupyterlab->arcgis) (0.9.0)\n",
      "Requirement already satisfied: ypy-websocket<0.9.0,>=0.8.2 in ./Downloads/anaconda3/lib/python3.11/site-packages (from jupyter-server-ydoc~=0.8.0->jupyterlab->arcgis) (0.8.2)\n",
      "Requirement already satisfied: y-py<0.6.0,>=0.5.3 in ./Downloads/anaconda3/lib/python3.11/site-packages (from jupyter-ydoc~=0.2.3->jupyterlab->arcgis) (0.5.9)\n",
      "Requirement already satisfied: babel>=2.10 in ./Downloads/anaconda3/lib/python3.11/site-packages (from jupyterlab-server~=2.19->jupyterlab->arcgis) (2.11.0)\n",
      "Requirement already satisfied: json5>=0.9.0 in ./Downloads/anaconda3/lib/python3.11/site-packages (from jupyterlab-server~=2.19->jupyterlab->arcgis) (0.9.6)\n",
      "Requirement already satisfied: jsonschema>=4.17.3 in ./Downloads/anaconda3/lib/python3.11/site-packages (from jupyterlab-server~=2.19->jupyterlab->arcgis) (4.17.3)\n",
      "Requirement already satisfied: notebook-shim>=0.1.0 in ./Downloads/anaconda3/lib/python3.11/site-packages (from nbclassic>=0.4.7->notebook->arcgis) (0.2.2)\n",
      "Requirement already satisfied: beautifulsoup4 in ./Downloads/anaconda3/lib/python3.11/site-packages (from nbconvert>=5->notebook->arcgis) (4.12.2)\n",
      "Requirement already satisfied: bleach in ./Downloads/anaconda3/lib/python3.11/site-packages (from nbconvert>=5->notebook->arcgis) (4.1.0)\n",
      "Requirement already satisfied: defusedxml in ./Downloads/anaconda3/lib/python3.11/site-packages (from nbconvert>=5->notebook->arcgis) (0.7.1)\n",
      "Requirement already satisfied: entrypoints>=0.2.2 in ./Downloads/anaconda3/lib/python3.11/site-packages (from nbconvert>=5->notebook->arcgis) (0.4)\n",
      "Requirement already satisfied: jupyterlab-pygments in ./Downloads/anaconda3/lib/python3.11/site-packages (from nbconvert>=5->notebook->arcgis) (0.1.2)\n",
      "Requirement already satisfied: mistune<2,>=0.8.1 in ./Downloads/anaconda3/lib/python3.11/site-packages (from nbconvert>=5->notebook->arcgis) (0.8.4)\n",
      "Requirement already satisfied: nbclient>=0.5.0 in ./Downloads/anaconda3/lib/python3.11/site-packages (from nbconvert>=5->notebook->arcgis) (0.5.13)\n",
      "Requirement already satisfied: pandocfilters>=1.4.1 in ./Downloads/anaconda3/lib/python3.11/site-packages (from nbconvert>=5->notebook->arcgis) (1.5.0)\n",
      "Requirement already satisfied: tinycss2 in ./Downloads/anaconda3/lib/python3.11/site-packages (from nbconvert>=5->notebook->arcgis) (1.2.1)\n",
      "Requirement already satisfied: fastjsonschema in ./Downloads/anaconda3/lib/python3.11/site-packages (from nbformat->notebook->arcgis) (2.16.2)\n",
      "Requirement already satisfied: locket in ./Downloads/anaconda3/lib/python3.11/site-packages (from partd>=1.2.0->dask>=2023.3.2->arcgis) (1.0.0)\n",
      "Requirement already satisfied: six>=1.5 in ./Downloads/anaconda3/lib/python3.11/site-packages (from python-dateutil>=2.1->jupyter-client<=6.1.12->arcgis) (1.16.0)\n",
      "Requirement already satisfied: ptyprocess in ./Downloads/anaconda3/lib/python3.11/site-packages (from terminado>=0.8.3->notebook->arcgis) (0.7.0)\n",
      "Requirement already satisfied: argon2-cffi-bindings in ./Downloads/anaconda3/lib/python3.11/site-packages (from argon2-cffi->notebook->arcgis) (21.2.0)\n",
      "Requirement already satisfied: debugpy>=1.6.5 in ./Downloads/anaconda3/lib/python3.11/site-packages (from ipykernel->notebook->arcgis) (1.6.7)\n",
      "Requirement already satisfied: psutil in ./Downloads/anaconda3/lib/python3.11/site-packages (from ipykernel->notebook->arcgis) (5.9.0)\n",
      "Requirement already satisfied: more-itertools in ./Downloads/anaconda3/lib/python3.11/site-packages (from jaraco.classes->keyring>=23.3.0->arcgis) (8.12.0)\n",
      "Requirement already satisfied: krb5>=0.3.0 in ./Downloads/anaconda3/lib/python3.11/site-packages (from pyspnego>=0.8.0->arcgis) (0.5.1)\n",
      "Requirement already satisfied: sniffio>=1.1 in ./Downloads/anaconda3/lib/python3.11/site-packages (from anyio<4,>=3.1.0->jupyter-server<3,>=1.16.0->jupyterlab->arcgis) (1.2.0)\n",
      "Requirement already satisfied: parso<0.9.0,>=0.8.0 in ./Downloads/anaconda3/lib/python3.11/site-packages (from jedi>=0.16->ipython>=4.0.0->ipywidgets<8,>=7->arcgis) (0.8.3)\n",
      "Requirement already satisfied: attrs>=17.4.0 in ./Downloads/anaconda3/lib/python3.11/site-packages (from jsonschema>=4.17.3->jupyterlab-server~=2.19->jupyterlab->arcgis) (22.1.0)\n",
      "Requirement already satisfied: pyrsistent!=0.17.0,!=0.17.1,!=0.17.2,>=0.14.0 in ./Downloads/anaconda3/lib/python3.11/site-packages (from jsonschema>=4.17.3->jupyterlab-server~=2.19->jupyterlab->arcgis) (0.18.0)\n",
      "Requirement already satisfied: jupyter-events>=0.5.0 in ./Downloads/anaconda3/lib/python3.11/site-packages (from jupyter-server-fileid<1,>=0.6.0->jupyter-server-ydoc~=0.8.0->jupyterlab->arcgis) (0.6.3)\n",
      "Requirement already satisfied: wcwidth in ./Downloads/anaconda3/lib/python3.11/site-packages (from prompt-toolkit!=3.0.37,<3.1.0,>=3.0.30->ipython>=4.0.0->ipywidgets<8,>=7->arcgis) (0.2.5)\n",
      "Requirement already satisfied: aiofiles<23,>=22.1.0 in ./Downloads/anaconda3/lib/python3.11/site-packages (from ypy-websocket<0.9.0,>=0.8.2->jupyter-server-ydoc~=0.8.0->jupyterlab->arcgis) (22.1.0)\n",
      "Requirement already satisfied: aiosqlite<1,>=0.17.0 in ./Downloads/anaconda3/lib/python3.11/site-packages (from ypy-websocket<0.9.0,>=0.8.2->jupyter-server-ydoc~=0.8.0->jupyterlab->arcgis) (0.18.0)\n",
      "Requirement already satisfied: soupsieve>1.2 in ./Downloads/anaconda3/lib/python3.11/site-packages (from beautifulsoup4->nbconvert>=5->notebook->arcgis) (2.4)\n",
      "Requirement already satisfied: webencodings in ./Downloads/anaconda3/lib/python3.11/site-packages (from bleach->nbconvert>=5->notebook->arcgis) (0.5.1)\n"
     ]
    },
    {
     "name": "stdout",
     "output_type": "stream",
     "text": [
      "Requirement already satisfied: executing in ./Downloads/anaconda3/lib/python3.11/site-packages (from stack-data->ipython>=4.0.0->ipywidgets<8,>=7->arcgis) (0.8.3)\n",
      "Requirement already satisfied: asttokens in ./Downloads/anaconda3/lib/python3.11/site-packages (from stack-data->ipython>=4.0.0->ipywidgets<8,>=7->arcgis) (2.0.5)\n",
      "Requirement already satisfied: pure-eval in ./Downloads/anaconda3/lib/python3.11/site-packages (from stack-data->ipython>=4.0.0->ipywidgets<8,>=7->arcgis) (0.2.2)\n",
      "Requirement already satisfied: python-json-logger>=2.0.4 in ./Downloads/anaconda3/lib/python3.11/site-packages (from jupyter-events>=0.5.0->jupyter-server-fileid<1,>=0.6.0->jupyter-server-ydoc~=0.8.0->jupyterlab->arcgis) (2.0.7)\n",
      "Requirement already satisfied: rfc3339-validator in ./Downloads/anaconda3/lib/python3.11/site-packages (from jupyter-events>=0.5.0->jupyter-server-fileid<1,>=0.6.0->jupyter-server-ydoc~=0.8.0->jupyterlab->arcgis) (0.1.4)\n",
      "Requirement already satisfied: rfc3986-validator>=0.1.1 in ./Downloads/anaconda3/lib/python3.11/site-packages (from jupyter-events>=0.5.0->jupyter-server-fileid<1,>=0.6.0->jupyter-server-ydoc~=0.8.0->jupyterlab->arcgis) (0.1.1)\n",
      "Requirement already satisfied: fqdn in ./Downloads/anaconda3/lib/python3.11/site-packages (from jsonschema>=4.17.3->jupyterlab-server~=2.19->jupyterlab->arcgis) (1.5.1)\n",
      "Requirement already satisfied: isoduration in ./Downloads/anaconda3/lib/python3.11/site-packages (from jsonschema>=4.17.3->jupyterlab-server~=2.19->jupyterlab->arcgis) (20.11.0)\n",
      "Requirement already satisfied: jsonpointer>1.13 in ./Downloads/anaconda3/lib/python3.11/site-packages (from jsonschema>=4.17.3->jupyterlab-server~=2.19->jupyterlab->arcgis) (2.1)\n",
      "Requirement already satisfied: uri-template in ./Downloads/anaconda3/lib/python3.11/site-packages (from jsonschema>=4.17.3->jupyterlab-server~=2.19->jupyterlab->arcgis) (1.3.0)\n",
      "Requirement already satisfied: webcolors>=1.11 in ./Downloads/anaconda3/lib/python3.11/site-packages (from jsonschema>=4.17.3->jupyterlab-server~=2.19->jupyterlab->arcgis) (1.13)\n",
      "Requirement already satisfied: arrow>=0.15.0 in ./Downloads/anaconda3/lib/python3.11/site-packages (from isoduration->jsonschema>=4.17.3->jupyterlab-server~=2.19->jupyterlab->arcgis) (1.2.3)\n",
      "Note: you may need to restart the kernel to use updated packages.\n"
     ]
    }
   ],
   "source": [
    "pip install arcgis"
   ]
  },
  {
   "cell_type": "code",
   "execution_count": 2,
   "id": "b530936a",
   "metadata": {},
   "outputs": [
    {
     "name": "stdout",
     "output_type": "stream",
     "text": [
      "Requirement already satisfied: ipywidgets in ./Downloads/anaconda3/lib/python3.11/site-packages (7.8.1)\n",
      "Requirement already satisfied: comm>=0.1.3 in ./Downloads/anaconda3/lib/python3.11/site-packages (from ipywidgets) (0.2.0)\n",
      "Requirement already satisfied: ipython-genutils~=0.2.0 in ./Downloads/anaconda3/lib/python3.11/site-packages (from ipywidgets) (0.2.0)\n",
      "Requirement already satisfied: traitlets>=4.3.1 in ./Downloads/anaconda3/lib/python3.11/site-packages (from ipywidgets) (5.7.1)\n",
      "Requirement already satisfied: widgetsnbextension~=3.6.6 in ./Downloads/anaconda3/lib/python3.11/site-packages (from ipywidgets) (3.6.6)\n",
      "Requirement already satisfied: ipython>=4.0.0 in ./Downloads/anaconda3/lib/python3.11/site-packages (from ipywidgets) (8.15.0)\n",
      "Requirement already satisfied: jupyterlab-widgets<3,>=1.0.0 in ./Downloads/anaconda3/lib/python3.11/site-packages (from ipywidgets) (1.1.7)\n",
      "Requirement already satisfied: backcall in ./Downloads/anaconda3/lib/python3.11/site-packages (from ipython>=4.0.0->ipywidgets) (0.2.0)\n",
      "Requirement already satisfied: decorator in ./Downloads/anaconda3/lib/python3.11/site-packages (from ipython>=4.0.0->ipywidgets) (5.1.1)\n",
      "Requirement already satisfied: jedi>=0.16 in ./Downloads/anaconda3/lib/python3.11/site-packages (from ipython>=4.0.0->ipywidgets) (0.18.1)\n",
      "Requirement already satisfied: matplotlib-inline in ./Downloads/anaconda3/lib/python3.11/site-packages (from ipython>=4.0.0->ipywidgets) (0.1.6)\n",
      "Requirement already satisfied: pickleshare in ./Downloads/anaconda3/lib/python3.11/site-packages (from ipython>=4.0.0->ipywidgets) (0.7.5)\n",
      "Requirement already satisfied: prompt-toolkit!=3.0.37,<3.1.0,>=3.0.30 in ./Downloads/anaconda3/lib/python3.11/site-packages (from ipython>=4.0.0->ipywidgets) (3.0.36)\n",
      "Requirement already satisfied: pygments>=2.4.0 in ./Downloads/anaconda3/lib/python3.11/site-packages (from ipython>=4.0.0->ipywidgets) (2.15.1)\n",
      "Requirement already satisfied: stack-data in ./Downloads/anaconda3/lib/python3.11/site-packages (from ipython>=4.0.0->ipywidgets) (0.2.0)\n",
      "Requirement already satisfied: pexpect>4.3 in ./Downloads/anaconda3/lib/python3.11/site-packages (from ipython>=4.0.0->ipywidgets) (4.8.0)\n",
      "Requirement already satisfied: appnope in ./Downloads/anaconda3/lib/python3.11/site-packages (from ipython>=4.0.0->ipywidgets) (0.1.2)\n",
      "Requirement already satisfied: notebook>=4.4.1 in ./Downloads/anaconda3/lib/python3.11/site-packages (from widgetsnbextension~=3.6.6->ipywidgets) (6.5.4)\n",
      "Requirement already satisfied: parso<0.9.0,>=0.8.0 in ./Downloads/anaconda3/lib/python3.11/site-packages (from jedi>=0.16->ipython>=4.0.0->ipywidgets) (0.8.3)\n",
      "Requirement already satisfied: jinja2 in ./Downloads/anaconda3/lib/python3.11/site-packages (from notebook>=4.4.1->widgetsnbextension~=3.6.6->ipywidgets) (3.1.2)\n",
      "Requirement already satisfied: tornado>=6.1 in ./Downloads/anaconda3/lib/python3.11/site-packages (from notebook>=4.4.1->widgetsnbextension~=3.6.6->ipywidgets) (6.3.2)\n",
      "Requirement already satisfied: pyzmq>=17 in ./Downloads/anaconda3/lib/python3.11/site-packages (from notebook>=4.4.1->widgetsnbextension~=3.6.6->ipywidgets) (23.2.0)\n",
      "Requirement already satisfied: argon2-cffi in ./Downloads/anaconda3/lib/python3.11/site-packages (from notebook>=4.4.1->widgetsnbextension~=3.6.6->ipywidgets) (21.3.0)\n",
      "Requirement already satisfied: jupyter-core>=4.6.1 in ./Downloads/anaconda3/lib/python3.11/site-packages (from notebook>=4.4.1->widgetsnbextension~=3.6.6->ipywidgets) (5.3.0)\n",
      "Requirement already satisfied: jupyter-client>=5.3.4 in ./Downloads/anaconda3/lib/python3.11/site-packages (from notebook>=4.4.1->widgetsnbextension~=3.6.6->ipywidgets) (6.1.12)\n",
      "Requirement already satisfied: nbformat in ./Downloads/anaconda3/lib/python3.11/site-packages (from notebook>=4.4.1->widgetsnbextension~=3.6.6->ipywidgets) (5.9.2)\n",
      "Requirement already satisfied: nbconvert>=5 in ./Downloads/anaconda3/lib/python3.11/site-packages (from notebook>=4.4.1->widgetsnbextension~=3.6.6->ipywidgets) (6.5.4)\n",
      "Requirement already satisfied: nest-asyncio>=1.5 in ./Downloads/anaconda3/lib/python3.11/site-packages (from notebook>=4.4.1->widgetsnbextension~=3.6.6->ipywidgets) (1.5.6)\n",
      "Requirement already satisfied: ipykernel in ./Downloads/anaconda3/lib/python3.11/site-packages (from notebook>=4.4.1->widgetsnbextension~=3.6.6->ipywidgets) (6.25.0)\n",
      "Requirement already satisfied: Send2Trash>=1.8.0 in ./Downloads/anaconda3/lib/python3.11/site-packages (from notebook>=4.4.1->widgetsnbextension~=3.6.6->ipywidgets) (1.8.0)\n",
      "Requirement already satisfied: terminado>=0.8.3 in ./Downloads/anaconda3/lib/python3.11/site-packages (from notebook>=4.4.1->widgetsnbextension~=3.6.6->ipywidgets) (0.17.1)\n",
      "Requirement already satisfied: prometheus-client in ./Downloads/anaconda3/lib/python3.11/site-packages (from notebook>=4.4.1->widgetsnbextension~=3.6.6->ipywidgets) (0.14.1)\n",
      "Requirement already satisfied: nbclassic>=0.4.7 in ./Downloads/anaconda3/lib/python3.11/site-packages (from notebook>=4.4.1->widgetsnbextension~=3.6.6->ipywidgets) (0.5.5)\n",
      "Requirement already satisfied: ptyprocess>=0.5 in ./Downloads/anaconda3/lib/python3.11/site-packages (from pexpect>4.3->ipython>=4.0.0->ipywidgets) (0.7.0)\n",
      "Requirement already satisfied: wcwidth in ./Downloads/anaconda3/lib/python3.11/site-packages (from prompt-toolkit!=3.0.37,<3.1.0,>=3.0.30->ipython>=4.0.0->ipywidgets) (0.2.5)\n",
      "Requirement already satisfied: executing in ./Downloads/anaconda3/lib/python3.11/site-packages (from stack-data->ipython>=4.0.0->ipywidgets) (0.8.3)\n",
      "Requirement already satisfied: asttokens in ./Downloads/anaconda3/lib/python3.11/site-packages (from stack-data->ipython>=4.0.0->ipywidgets) (2.0.5)\n",
      "Requirement already satisfied: pure-eval in ./Downloads/anaconda3/lib/python3.11/site-packages (from stack-data->ipython>=4.0.0->ipywidgets) (0.2.2)\n",
      "Requirement already satisfied: python-dateutil>=2.1 in ./Downloads/anaconda3/lib/python3.11/site-packages (from jupyter-client>=5.3.4->notebook>=4.4.1->widgetsnbextension~=3.6.6->ipywidgets) (2.8.2)\n",
      "Requirement already satisfied: platformdirs>=2.5 in ./Downloads/anaconda3/lib/python3.11/site-packages (from jupyter-core>=4.6.1->notebook>=4.4.1->widgetsnbextension~=3.6.6->ipywidgets) (3.10.0)\n",
      "Requirement already satisfied: jupyter-server>=1.8 in ./Downloads/anaconda3/lib/python3.11/site-packages (from nbclassic>=0.4.7->notebook>=4.4.1->widgetsnbextension~=3.6.6->ipywidgets) (1.23.4)\n",
      "Requirement already satisfied: notebook-shim>=0.1.0 in ./Downloads/anaconda3/lib/python3.11/site-packages (from nbclassic>=0.4.7->notebook>=4.4.1->widgetsnbextension~=3.6.6->ipywidgets) (0.2.2)\n",
      "Requirement already satisfied: lxml in ./Downloads/anaconda3/lib/python3.11/site-packages (from nbconvert>=5->notebook>=4.4.1->widgetsnbextension~=3.6.6->ipywidgets) (4.9.3)\n",
      "Requirement already satisfied: beautifulsoup4 in ./Downloads/anaconda3/lib/python3.11/site-packages (from nbconvert>=5->notebook>=4.4.1->widgetsnbextension~=3.6.6->ipywidgets) (4.12.2)\n",
      "Requirement already satisfied: bleach in ./Downloads/anaconda3/lib/python3.11/site-packages (from nbconvert>=5->notebook>=4.4.1->widgetsnbextension~=3.6.6->ipywidgets) (4.1.0)\n",
      "Requirement already satisfied: defusedxml in ./Downloads/anaconda3/lib/python3.11/site-packages (from nbconvert>=5->notebook>=4.4.1->widgetsnbextension~=3.6.6->ipywidgets) (0.7.1)\n",
      "Requirement already satisfied: entrypoints>=0.2.2 in ./Downloads/anaconda3/lib/python3.11/site-packages (from nbconvert>=5->notebook>=4.4.1->widgetsnbextension~=3.6.6->ipywidgets) (0.4)\n",
      "Requirement already satisfied: jupyterlab-pygments in ./Downloads/anaconda3/lib/python3.11/site-packages (from nbconvert>=5->notebook>=4.4.1->widgetsnbextension~=3.6.6->ipywidgets) (0.1.2)\n",
      "Requirement already satisfied: MarkupSafe>=2.0 in ./Downloads/anaconda3/lib/python3.11/site-packages (from nbconvert>=5->notebook>=4.4.1->widgetsnbextension~=3.6.6->ipywidgets) (2.1.1)\n",
      "Requirement already satisfied: mistune<2,>=0.8.1 in ./Downloads/anaconda3/lib/python3.11/site-packages (from nbconvert>=5->notebook>=4.4.1->widgetsnbextension~=3.6.6->ipywidgets) (0.8.4)\n",
      "Requirement already satisfied: nbclient>=0.5.0 in ./Downloads/anaconda3/lib/python3.11/site-packages (from nbconvert>=5->notebook>=4.4.1->widgetsnbextension~=3.6.6->ipywidgets) (0.5.13)\n",
      "Requirement already satisfied: packaging in ./Downloads/anaconda3/lib/python3.11/site-packages (from nbconvert>=5->notebook>=4.4.1->widgetsnbextension~=3.6.6->ipywidgets) (23.1)\n",
      "Requirement already satisfied: pandocfilters>=1.4.1 in ./Downloads/anaconda3/lib/python3.11/site-packages (from nbconvert>=5->notebook>=4.4.1->widgetsnbextension~=3.6.6->ipywidgets) (1.5.0)\n",
      "Requirement already satisfied: tinycss2 in ./Downloads/anaconda3/lib/python3.11/site-packages (from nbconvert>=5->notebook>=4.4.1->widgetsnbextension~=3.6.6->ipywidgets) (1.2.1)\n"
     ]
    },
    {
     "name": "stdout",
     "output_type": "stream",
     "text": [
      "Requirement already satisfied: fastjsonschema in ./Downloads/anaconda3/lib/python3.11/site-packages (from nbformat->notebook>=4.4.1->widgetsnbextension~=3.6.6->ipywidgets) (2.16.2)\n",
      "Requirement already satisfied: jsonschema>=2.6 in ./Downloads/anaconda3/lib/python3.11/site-packages (from nbformat->notebook>=4.4.1->widgetsnbextension~=3.6.6->ipywidgets) (4.17.3)\n",
      "Requirement already satisfied: argon2-cffi-bindings in ./Downloads/anaconda3/lib/python3.11/site-packages (from argon2-cffi->notebook>=4.4.1->widgetsnbextension~=3.6.6->ipywidgets) (21.2.0)\n",
      "Requirement already satisfied: six in ./Downloads/anaconda3/lib/python3.11/site-packages (from asttokens->stack-data->ipython>=4.0.0->ipywidgets) (1.16.0)\n",
      "Requirement already satisfied: debugpy>=1.6.5 in ./Downloads/anaconda3/lib/python3.11/site-packages (from ipykernel->notebook>=4.4.1->widgetsnbextension~=3.6.6->ipywidgets) (1.6.7)\n",
      "Requirement already satisfied: psutil in ./Downloads/anaconda3/lib/python3.11/site-packages (from ipykernel->notebook>=4.4.1->widgetsnbextension~=3.6.6->ipywidgets) (5.9.0)\n",
      "Requirement already satisfied: attrs>=17.4.0 in ./Downloads/anaconda3/lib/python3.11/site-packages (from jsonschema>=2.6->nbformat->notebook>=4.4.1->widgetsnbextension~=3.6.6->ipywidgets) (22.1.0)\n",
      "Requirement already satisfied: pyrsistent!=0.17.0,!=0.17.1,!=0.17.2,>=0.14.0 in ./Downloads/anaconda3/lib/python3.11/site-packages (from jsonschema>=2.6->nbformat->notebook>=4.4.1->widgetsnbextension~=3.6.6->ipywidgets) (0.18.0)\n",
      "Requirement already satisfied: anyio<4,>=3.1.0 in ./Downloads/anaconda3/lib/python3.11/site-packages (from jupyter-server>=1.8->nbclassic>=0.4.7->notebook>=4.4.1->widgetsnbextension~=3.6.6->ipywidgets) (3.5.0)\n",
      "Requirement already satisfied: websocket-client in ./Downloads/anaconda3/lib/python3.11/site-packages (from jupyter-server>=1.8->nbclassic>=0.4.7->notebook>=4.4.1->widgetsnbextension~=3.6.6->ipywidgets) (0.58.0)\n",
      "Requirement already satisfied: cffi>=1.0.1 in ./Downloads/anaconda3/lib/python3.11/site-packages (from argon2-cffi-bindings->argon2-cffi->notebook>=4.4.1->widgetsnbextension~=3.6.6->ipywidgets) (1.15.1)\n",
      "Requirement already satisfied: soupsieve>1.2 in ./Downloads/anaconda3/lib/python3.11/site-packages (from beautifulsoup4->nbconvert>=5->notebook>=4.4.1->widgetsnbextension~=3.6.6->ipywidgets) (2.4)\n",
      "Requirement already satisfied: webencodings in ./Downloads/anaconda3/lib/python3.11/site-packages (from bleach->nbconvert>=5->notebook>=4.4.1->widgetsnbextension~=3.6.6->ipywidgets) (0.5.1)\n",
      "Requirement already satisfied: idna>=2.8 in ./Downloads/anaconda3/lib/python3.11/site-packages (from anyio<4,>=3.1.0->jupyter-server>=1.8->nbclassic>=0.4.7->notebook>=4.4.1->widgetsnbextension~=3.6.6->ipywidgets) (3.4)\n",
      "Requirement already satisfied: sniffio>=1.1 in ./Downloads/anaconda3/lib/python3.11/site-packages (from anyio<4,>=3.1.0->jupyter-server>=1.8->nbclassic>=0.4.7->notebook>=4.4.1->widgetsnbextension~=3.6.6->ipywidgets) (1.2.0)\n",
      "Requirement already satisfied: pycparser in ./Downloads/anaconda3/lib/python3.11/site-packages (from cffi>=1.0.1->argon2-cffi-bindings->argon2-cffi->notebook>=4.4.1->widgetsnbextension~=3.6.6->ipywidgets) (2.21)\n",
      "Note: you may need to restart the kernel to use updated packages.\n"
     ]
    }
   ],
   "source": [
    "pip install ipywidgets"
   ]
  },
  {
   "cell_type": "code",
   "execution_count": 3,
   "id": "c4db662b",
   "metadata": {},
   "outputs": [],
   "source": [
    "import arcgis"
   ]
  },
  {
   "cell_type": "code",
   "execution_count": 4,
   "id": "752fd7e9",
   "metadata": {},
   "outputs": [],
   "source": [
    "from arcgis.gis import GIS"
   ]
  },
  {
   "cell_type": "code",
   "execution_count": 5,
   "id": "61722db2",
   "metadata": {},
   "outputs": [
    {
     "data": {
      "application/vnd.jupyter.widget-view+json": {
       "model_id": "0a7d8c535ca14578b7e5f8dbb11224d9",
       "version_major": 2,
       "version_minor": 0
      },
      "text/plain": [
       "MapView(layout=Layout(height='400px', width='100%'))"
      ]
     },
     "metadata": {},
     "output_type": "display_data"
    },
    {
     "data": {
      "text/html": [
       "<div class=\"map-static-img-preview-edc681d5-48aa-4d22-b120-cfafc41736a7\"><img src=\"\"></img></div>"
      ],
      "text/plain": [
       "<IPython.core.display.HTML object>"
      ]
     },
     "metadata": {},
     "output_type": "display_data"
    },
    {
     "data": {
      "text/html": [
       "<div class=\"map-html-embed-preview-edc681d5-48aa-4d22-b120-cfafc41736a7\"></div>"
      ],
      "text/plain": [
       "<IPython.core.display.HTML object>"
      ]
     },
     "metadata": {},
     "output_type": "display_data"
    }
   ],
   "source": [
    "gis=GIS()\n",
    "map=gis.map()\n",
    "map"
   ]
  },
  {
   "cell_type": "markdown",
   "id": "0c9228c3",
   "metadata": {},
   "source": [
    "Searching for Texas state location in usa"
   ]
  },
  {
   "cell_type": "code",
   "execution_count": 6,
   "id": "0ff88845",
   "metadata": {},
   "outputs": [
    {
     "data": {
      "application/vnd.jupyter.widget-view+json": {
       "model_id": "2ae6fa0fde164bd9bca304edfdc2a545",
       "version_major": 2,
       "version_minor": 0
      },
      "text/plain": [
       "MapView(layout=Layout(height='400px', width='100%'))"
      ]
     },
     "metadata": {},
     "output_type": "display_data"
    },
    {
     "data": {
      "text/html": [
       "<div class=\"map-static-img-preview-60a12da2-81aa-4327-8cf9-929826dcef43\"><img src=\"\"></img></div>"
      ],
      "text/plain": [
       "<IPython.core.display.HTML object>"
      ]
     },
     "metadata": {},
     "output_type": "display_data"
    },
    {
     "data": {
      "text/html": [
       "<div class=\"map-html-embed-preview-60a12da2-81aa-4327-8cf9-929826dcef43\"></div>"
      ],
      "text/plain": [
       "<IPython.core.display.HTML object>"
      ]
     },
     "metadata": {},
     "output_type": "display_data"
    }
   ],
   "source": [
    "myGIS=GIS()\n",
    "myMap1=myGIS.map(\"Texas\")\n",
    "# myMap=myGIS.map(\"USA\")\n",
    "myMap1"
   ]
  },
  {
   "cell_type": "markdown",
   "id": "fb9783d8",
   "metadata": {},
   "source": [
    "Search for corpus christi"
   ]
  },
  {
   "cell_type": "code",
   "execution_count": 7,
   "id": "cfb72525",
   "metadata": {},
   "outputs": [
    {
     "data": {
      "application/vnd.jupyter.widget-view+json": {
       "model_id": "38229447b6224708a2056770bf55bfcc",
       "version_major": 2,
       "version_minor": 0
      },
      "text/plain": [
       "MapView(layout=Layout(height='400px', width='100%'))"
      ]
     },
     "metadata": {},
     "output_type": "display_data"
    },
    {
     "data": {
      "text/html": [
       "<div class=\"map-static-img-preview-736fdf3b-16bb-4f4e-9eb2-958be42581d6\"><img src=\"\"></img></div>"
      ],
      "text/plain": [
       "<IPython.core.display.HTML object>"
      ]
     },
     "metadata": {},
     "output_type": "display_data"
    },
    {
     "data": {
      "text/html": [
       "<div class=\"map-html-embed-preview-736fdf3b-16bb-4f4e-9eb2-958be42581d6\"></div>"
      ],
      "text/plain": [
       "<IPython.core.display.HTML object>"
      ]
     },
     "metadata": {},
     "output_type": "display_data"
    }
   ],
   "source": [
    "myGIS=GIS()\n",
    "# myMap=myGIS.map(\"Texas\")\n",
    "myMap2=myGIS.map(\"Corpus Christi \")\n",
    "myMap2"
   ]
  },
  {
   "cell_type": "code",
   "execution_count": 8,
   "id": "39851209",
   "metadata": {},
   "outputs": [
    {
     "data": {
      "application/vnd.jupyter.widget-view+json": {
       "model_id": "1df0fe3fb85e49f7bcc943da5b5b3d6e",
       "version_major": 2,
       "version_minor": 0
      },
      "text/plain": [
       "MapView(layout=Layout(height='400px', width='100%'))"
      ]
     },
     "metadata": {},
     "output_type": "display_data"
    },
    {
     "data": {
      "text/html": [
       "<div class=\"map-static-img-preview-652022f2-632f-4eae-befe-5165fb9ac24c\"><img src=\"\"></img></div>"
      ],
      "text/plain": [
       "<IPython.core.display.HTML object>"
      ]
     },
     "metadata": {},
     "output_type": "display_data"
    },
    {
     "data": {
      "text/html": [
       "<div class=\"map-html-embed-preview-652022f2-632f-4eae-befe-5165fb9ac24c\"></div>"
      ],
      "text/plain": [
       "<IPython.core.display.HTML object>"
      ]
     },
     "metadata": {},
     "output_type": "display_data"
    }
   ],
   "source": [
    "myGIS=GIS()\n",
    "# myMap=myGIS.map(\"Texas\")\n",
    "myMap3=myGIS.map(\"Texas A&M University Corpus Christi \")\n",
    "myMap3"
   ]
  },
  {
   "cell_type": "code",
   "execution_count": 9,
   "id": "f8dd5de4",
   "metadata": {
    "scrolled": true
   },
   "outputs": [
    {
     "data": {
      "application/vnd.jupyter.widget-view+json": {
       "model_id": "7b025b4b54ec4f80b333be87ccdcb175",
       "version_major": 2,
       "version_minor": 0
      },
      "text/plain": [
       "MapView(layout=Layout(height='400px', width='100%'))"
      ]
     },
     "metadata": {},
     "output_type": "display_data"
    },
    {
     "data": {
      "text/html": [
       "<div class=\"map-static-img-preview-68b3cb99-bc4e-45e3-9442-0952b3f828f5\"><img src=\"\"></img></div>"
      ],
      "text/plain": [
       "<IPython.core.display.HTML object>"
      ]
     },
     "metadata": {},
     "output_type": "display_data"
    },
    {
     "data": {
      "text/html": [
       "<div class=\"map-html-embed-preview-68b3cb99-bc4e-45e3-9442-0952b3f828f5\"></div>"
      ],
      "text/plain": [
       "<IPython.core.display.HTML object>"
      ]
     },
     "metadata": {},
     "output_type": "display_data"
    }
   ],
   "source": [
    "myGIS=GIS()\n",
    "# myMap=myGIS.map(\"Texas\")\n",
    "myMap=myGIS.map(\"USA\")\n",
    "myMap"
   ]
  },
  {
   "cell_type": "markdown",
   "id": "bf4189e2",
   "metadata": {},
   "source": [
    "Search for USA on GIS maps"
   ]
  },
  {
   "cell_type": "code",
   "execution_count": 10,
   "id": "703e16ae",
   "metadata": {},
   "outputs": [
    {
     "data": {
      "application/vnd.jupyter.widget-view+json": {
       "model_id": "47be03aab36c4c18961ec154a3eebd15",
       "version_major": 2,
       "version_minor": 0
      },
      "text/plain": [
       "MapView(layout=Layout(height='400px', width='100%'))"
      ]
     },
     "metadata": {},
     "output_type": "display_data"
    },
    {
     "data": {
      "text/html": [
       "<div class=\"map-static-img-preview-6c581a19-3a52-43aa-bdf5-449d655c958f\"><img src=\"\"></img></div>"
      ],
      "text/plain": [
       "<IPython.core.display.HTML object>"
      ]
     },
     "metadata": {},
     "output_type": "display_data"
    },
    {
     "data": {
      "text/html": [
       "<div class=\"map-html-embed-preview-6c581a19-3a52-43aa-bdf5-449d655c958f\"></div>"
      ],
      "text/plain": [
       "<IPython.core.display.HTML object>"
      ]
     },
     "metadata": {},
     "output_type": "display_data"
    }
   ],
   "source": [
    "myGIS=GIS()\n",
    "myMap=myGIS.map(\"USA\")\n",
    "myMap.basemap='dark-gray-vector'\n",
    "# myMap.basemap='dark-green-vector'\n",
    "myMap"
   ]
  },
  {
   "cell_type": "markdown",
   "id": "479569bf",
   "metadata": {},
   "source": [
    "Now i am gonna search for \"CULEX MOSQUITOES\" related data Across USA using GIS"
   ]
  },
  {
   "cell_type": "code",
   "execution_count": 11,
   "id": "3c558216",
   "metadata": {},
   "outputs": [
    {
     "data": {
      "text/html": [
       "<div class=\"item_container\" style=\"height: auto; overflow: hidden; border: 1px solid #cfcfcf; border-radius: 2px; background: #f6fafa; line-height: 1.21429em; padding: 10px;\">\n",
       "                    <div class=\"item_left\" style=\"width: 210px; float: left;\">\n",
       "                       <a href='https://www.arcgis.com/home/item.html?id=5bf77425451c4703ad7874458d41a370' target='_blank'>\n",
       "                        <img src='https://www.arcgis.com/sharing/rest//content/items/5bf77425451c4703ad7874458d41a370/info/thumbnail/5bf77425451c4703ad7874458d41a370.png' class=\"itemThumbnail\">\n",
       "                       </a>\n",
       "                    </div>\n",
       "\n",
       "                    <div class=\"item_right\"     style=\"float: none; width: auto; overflow: hidden;\">\n",
       "                        <a href='https://www.arcgis.com/home/item.html?id=5bf77425451c4703ad7874458d41a370' target='_blank'><b>Manitoba West Nile Virus - SHSS Trap Count Chart</b>\n",
       "                        </a>\n",
       "                        <br/>An interactive dashboard chart displaying average Culex tarsalis trap count in the Southern Health-Santé Sud Health Region in 2022 compared to provincial and historical trends. The data is updated weekly from June to September.<img src='https://www.arcgis.com/home/js/jsapi/esri/css/images/item_type_icons/layers16.png' style=\"vertical-align:middle;\" width=16 height=16>Dashboard by Manitoba_Government\n",
       "                        <br/>Last Modified: July 10, 2023\n",
       "                        <br/>0 comments, 227 views\n",
       "                    </div>\n",
       "                </div>\n",
       "                "
      ],
      "text/plain": [
       "<Item title:\"Manitoba West Nile Virus - SHSS Trap Count Chart\" type:Dashboard owner:Manitoba_Government>"
      ]
     },
     "execution_count": 11,
     "metadata": {},
     "output_type": "execute_result"
    }
   ],
   "source": [
    "mosquito_search=myGIS.content.search(\"Culex Mosquitoes\")\n",
    "mosquito_search[0]"
   ]
  },
  {
   "cell_type": "code",
   "execution_count": 12,
   "id": "38af6b11",
   "metadata": {},
   "outputs": [
    {
     "data": {
      "text/plain": [
       "'5bf77425451c4703ad7874458d41a370'"
      ]
     },
     "execution_count": 12,
     "metadata": {},
     "output_type": "execute_result"
    }
   ],
   "source": [
    "mosquito_search=myGIS.content.search(\"Culex Mosquitoes\")\n",
    "mosquito_search[0].id"
   ]
  },
  {
   "cell_type": "code",
   "execution_count": 13,
   "id": "559d710e",
   "metadata": {},
   "outputs": [
    {
     "data": {
      "text/html": [
       "<div class=\"item_container\" style=\"height: auto; overflow: hidden; border: 1px solid #cfcfcf; border-radius: 2px; background: #f6fafa; line-height: 1.21429em; padding: 10px;\">\n",
       "                    <div class=\"item_left\" style=\"width: 210px; float: left;\">\n",
       "                       <a href='https://www.arcgis.com/home/item.html?id=9767d4bebd9e4559aae36785b77db901' target='_blank'>\n",
       "                        <img src='https://www.arcgis.com/sharing/rest//content/items/9767d4bebd9e4559aae36785b77db901/info/thumbnail/thumbnail1638992538273.png' class=\"itemThumbnail\">\n",
       "                       </a>\n",
       "                    </div>\n",
       "\n",
       "                    <div class=\"item_right\"     style=\"float: none; width: auto; overflow: hidden;\">\n",
       "                        <a href='https://www.arcgis.com/home/item.html?id=9767d4bebd9e4559aae36785b77db901' target='_blank'><b>Mosquito Trap Sites</b>\n",
       "                        </a>\n",
       "                        <br/>This data is used for the planning and management of Washington, D.C. by local government agencies.<img src='https://www.arcgis.com/home/js/jsapi/esri/css/images/item_type_icons/featureshosted16.png' style=\"vertical-align:middle;\" width=16 height=16>Feature Layer Collection by DCGISopendata\n",
       "                        <br/>Last Modified: December 08, 2021\n",
       "                        <br/>0 comments, 1341 views\n",
       "                    </div>\n",
       "                </div>\n",
       "                "
      ],
      "text/plain": [
       "<Item title:\"Mosquito Trap Sites\" type:Feature Layer Collection owner:DCGISopendata>"
      ]
     },
     "execution_count": 13,
     "metadata": {},
     "output_type": "execute_result"
    }
   ],
   "source": [
    "mosquito_search=myGIS.content.search(\"Culex Mosquitoes Spread West Nile Virus\")\n",
    "mosquito_search[0]"
   ]
  },
  {
   "cell_type": "code",
   "execution_count": 14,
   "id": "f1c16344",
   "metadata": {},
   "outputs": [
    {
     "data": {
      "text/plain": [
       "'9767d4bebd9e4559aae36785b77db901'"
      ]
     },
     "execution_count": 14,
     "metadata": {},
     "output_type": "execute_result"
    }
   ],
   "source": [
    "mosquito_search=myGIS.content.search(\"Culex Mosquitoes Spread West Nile Virus\")\n",
    "mosquito_search[0].id"
   ]
  },
  {
   "cell_type": "code",
   "execution_count": 15,
   "id": "faf6bf9d",
   "metadata": {},
   "outputs": [
    {
     "data": {
      "text/html": [
       "<div class=\"item_container\" style=\"height: auto; overflow: hidden; border: 1px solid #cfcfcf; border-radius: 2px; background: #f6fafa; line-height: 1.21429em; padding: 10px;\">\n",
       "                    <div class=\"item_left\" style=\"width: 210px; float: left;\">\n",
       "                       <a href='https://www.arcgis.com/home/item.html?id=9767d4bebd9e4559aae36785b77db901' target='_blank'>\n",
       "                        <img src='https://www.arcgis.com/sharing/rest//content/items/9767d4bebd9e4559aae36785b77db901/info/thumbnail/thumbnail1638992538273.png' class=\"itemThumbnail\">\n",
       "                       </a>\n",
       "                    </div>\n",
       "\n",
       "                    <div class=\"item_right\"     style=\"float: none; width: auto; overflow: hidden;\">\n",
       "                        <a href='https://www.arcgis.com/home/item.html?id=9767d4bebd9e4559aae36785b77db901' target='_blank'><b>Mosquito Trap Sites</b>\n",
       "                        </a>\n",
       "                        <br/>This data is used for the planning and management of Washington, D.C. by local government agencies.<img src='https://www.arcgis.com/home/js/jsapi/esri/css/images/item_type_icons/featureshosted16.png' style=\"vertical-align:middle;\" width=16 height=16>Feature Layer Collection by DCGISopendata\n",
       "                        <br/>Last Modified: December 08, 2021\n",
       "                        <br/>0 comments, 1341 views\n",
       "                    </div>\n",
       "                </div>\n",
       "                "
      ],
      "text/plain": [
       "<Item title:\"Mosquito Trap Sites\" type:Feature Layer Collection owner:DCGISopendata>"
      ]
     },
     "execution_count": 15,
     "metadata": {},
     "output_type": "execute_result"
    }
   ],
   "source": [
    "mosquito_search=myGIS.content.search(\"Culex Mosquitoes Spread West Nile Virus\")\n",
    "mosquito_search[0].id\n",
    "mosquito_layer=myGIS.content.get(mosquito_search[0].id)\n",
    "mosquito_layer"
   ]
  },
  {
   "cell_type": "markdown",
   "id": "a24f5b7e",
   "metadata": {},
   "source": [
    "Now visualize where actuallly we have more culex mosquitoes in our glob using GIS map "
   ]
  },
  {
   "cell_type": "code",
   "execution_count": 16,
   "id": "a9099bb8",
   "metadata": {},
   "outputs": [],
   "source": [
    "# e52f3d87617ad462c3c9d1074dd29d95->api_key"
   ]
  },
  {
   "cell_type": "code",
   "execution_count": 17,
   "id": "f8565219",
   "metadata": {},
   "outputs": [
    {
     "name": "stdout",
     "output_type": "stream",
     "text": [
      "Requirement already satisfied: requests in ./Downloads/anaconda3/lib/python3.11/site-packages (2.31.0)\n",
      "Requirement already satisfied: charset-normalizer<4,>=2 in ./Downloads/anaconda3/lib/python3.11/site-packages (from requests) (2.0.4)\n",
      "Requirement already satisfied: idna<4,>=2.5 in ./Downloads/anaconda3/lib/python3.11/site-packages (from requests) (3.4)\n",
      "Requirement already satisfied: urllib3<3,>=1.21.1 in ./Downloads/anaconda3/lib/python3.11/site-packages (from requests) (1.26.16)\n",
      "Requirement already satisfied: certifi>=2017.4.17 in ./Downloads/anaconda3/lib/python3.11/site-packages (from requests) (2023.7.22)\n",
      "Note: you may need to restart the kernel to use updated packages.\n"
     ]
    }
   ],
   "source": [
    "pip install requests"
   ]
  },
  {
   "cell_type": "code",
   "execution_count": 18,
   "id": "477746e6",
   "metadata": {},
   "outputs": [],
   "source": [
    "import requests \n",
    "# https://home.openweathermap.org/api_keys"
   ]
  },
  {
   "cell_type": "code",
   "execution_count": 19,
   "id": "73bb3b23",
   "metadata": {},
   "outputs": [],
   "source": [
    "import datetime as dt\n",
    "# fcb6d6b7745e37f3a39021b99da4aaab"
   ]
  },
  {
   "cell_type": "code",
   "execution_count": 48,
   "id": "e6a0dddd",
   "metadata": {},
   "outputs": [],
   "source": [
    "base_url=\"http://api.openweathermap.org/data/2.5/weather?\" # this is openweather home HTTP request\n",
    "# api_key=\"e52f3d87617ad462c3c9d1074dd29d95\" # This is vallepua Api key for open weather GIS\n",
    "# city1=\"Texas\" # Here i am taking weather report for texas city \n",
    "# api_key=\"e52f3d87617ad462c3c9d1074dd29d95\"\n",
    "api_key=\"e52f3d87617ad462c3c9d1074dd29d95\"\n",
    "city=\"Corpus Christi\"\n",
    "url=base_url+\"appid=\"+api_key+\"&q=\"+city\n",
    "# response=requests .get(url).json()\n",
    "response=requests .get(url).json()"
   ]
  },
  {
   "cell_type": "code",
   "execution_count": 49,
   "id": "5bebace0",
   "metadata": {},
   "outputs": [
    {
     "data": {
      "text/plain": [
       "{'coord': {'lon': -97.3964, 'lat': 27.8006},\n",
       " 'weather': [{'id': 801,\n",
       "   'main': 'Clouds',\n",
       "   'description': 'few clouds',\n",
       "   'icon': '02d'}],\n",
       " 'base': 'stations',\n",
       " 'main': {'temp': 292.5,\n",
       "  'feels_like': 292.08,\n",
       "  'temp_min': 291.14,\n",
       "  'temp_max': 293.8,\n",
       "  'pressure': 1022,\n",
       "  'humidity': 61},\n",
       " 'visibility': 10000,\n",
       " 'wind': {'speed': 4.63, 'deg': 310},\n",
       " 'clouds': {'all': 20},\n",
       " 'dt': 1702919945,\n",
       " 'sys': {'type': 2,\n",
       "  'id': 2080214,\n",
       "  'country': 'US',\n",
       "  'sunrise': 1702905280,\n",
       "  'sunset': 1702942657},\n",
       " 'timezone': -21600,\n",
       " 'id': 4683416,\n",
       " 'name': 'Corpus Christi',\n",
       " 'cod': 200}"
      ]
     },
     "execution_count": 49,
     "metadata": {},
     "output_type": "execute_result"
    }
   ],
   "source": [
    "data=response\n",
    "data"
   ]
  },
  {
   "cell_type": "code",
   "execution_count": 50,
   "id": "449394ca",
   "metadata": {},
   "outputs": [],
   "source": [
    "import numpy as np\n",
    "import pandas as pd\n",
    "import json\n",
    "# import matplotlib as plt"
   ]
  },
  {
   "cell_type": "code",
   "execution_count": 51,
   "id": "b3c438bc",
   "metadata": {},
   "outputs": [
    {
     "data": {
      "text/html": [
       "<div>\n",
       "<style scoped>\n",
       "    .dataframe tbody tr th:only-of-type {\n",
       "        vertical-align: middle;\n",
       "    }\n",
       "\n",
       "    .dataframe tbody tr th {\n",
       "        vertical-align: top;\n",
       "    }\n",
       "\n",
       "    .dataframe thead th {\n",
       "        text-align: right;\n",
       "    }\n",
       "</style>\n",
       "<table border=\"1\" class=\"dataframe\">\n",
       "  <thead>\n",
       "    <tr style=\"text-align: right;\">\n",
       "      <th></th>\n",
       "      <th>weather</th>\n",
       "      <th>base</th>\n",
       "      <th>visibility</th>\n",
       "      <th>dt</th>\n",
       "      <th>timezone</th>\n",
       "      <th>id</th>\n",
       "      <th>name</th>\n",
       "      <th>cod</th>\n",
       "      <th>coord.lon</th>\n",
       "      <th>coord.lat</th>\n",
       "      <th>...</th>\n",
       "      <th>main.pressure</th>\n",
       "      <th>main.humidity</th>\n",
       "      <th>wind.speed</th>\n",
       "      <th>wind.deg</th>\n",
       "      <th>clouds.all</th>\n",
       "      <th>sys.type</th>\n",
       "      <th>sys.id</th>\n",
       "      <th>sys.country</th>\n",
       "      <th>sys.sunrise</th>\n",
       "      <th>sys.sunset</th>\n",
       "    </tr>\n",
       "  </thead>\n",
       "  <tbody>\n",
       "    <tr>\n",
       "      <th>0</th>\n",
       "      <td>[{'id': 801, 'main': 'Clouds', 'description': ...</td>\n",
       "      <td>stations</td>\n",
       "      <td>10000</td>\n",
       "      <td>1702919945</td>\n",
       "      <td>-21600</td>\n",
       "      <td>4683416</td>\n",
       "      <td>Corpus Christi</td>\n",
       "      <td>200</td>\n",
       "      <td>-97.3964</td>\n",
       "      <td>27.8006</td>\n",
       "      <td>...</td>\n",
       "      <td>1022</td>\n",
       "      <td>61</td>\n",
       "      <td>4.63</td>\n",
       "      <td>310</td>\n",
       "      <td>20</td>\n",
       "      <td>2</td>\n",
       "      <td>2080214</td>\n",
       "      <td>US</td>\n",
       "      <td>1702905280</td>\n",
       "      <td>1702942657</td>\n",
       "    </tr>\n",
       "  </tbody>\n",
       "</table>\n",
       "<p>1 rows × 24 columns</p>\n",
       "</div>"
      ],
      "text/plain": [
       "                                             weather      base  visibility  \\\n",
       "0  [{'id': 801, 'main': 'Clouds', 'description': ...  stations       10000   \n",
       "\n",
       "           dt  timezone       id            name  cod  coord.lon  coord.lat  \\\n",
       "0  1702919945    -21600  4683416  Corpus Christi  200   -97.3964    27.8006   \n",
       "\n",
       "   ...  main.pressure  main.humidity  wind.speed  wind.deg  clouds.all  \\\n",
       "0  ...           1022             61        4.63       310          20   \n",
       "\n",
       "   sys.type   sys.id  sys.country  sys.sunrise  sys.sunset  \n",
       "0         2  2080214           US   1702905280  1702942657  \n",
       "\n",
       "[1 rows x 24 columns]"
      ]
     },
     "execution_count": 51,
     "metadata": {},
     "output_type": "execute_result"
    }
   ],
   "source": [
    "df = pd.json_normalize(data)\n",
    "         \n",
    "df.head(5)"
   ]
  },
  {
   "cell_type": "code",
   "execution_count": 52,
   "id": "6a40e201",
   "metadata": {},
   "outputs": [
    {
     "data": {
      "text/plain": [
       "Index(['weather', 'base', 'visibility', 'dt', 'timezone', 'id', 'name', 'cod',\n",
       "       'coord.lon', 'coord.lat', 'main.temp', 'main.feels_like',\n",
       "       'main.temp_min', 'main.temp_max', 'main.pressure', 'main.humidity',\n",
       "       'wind.speed', 'wind.deg', 'clouds.all', 'sys.type', 'sys.id',\n",
       "       'sys.country', 'sys.sunrise', 'sys.sunset'],\n",
       "      dtype='object')"
      ]
     },
     "execution_count": 52,
     "metadata": {},
     "output_type": "execute_result"
    }
   ],
   "source": [
    "df.columns"
   ]
  },
  {
   "cell_type": "code",
   "execution_count": 25,
   "id": "1d83e843",
   "metadata": {},
   "outputs": [
    {
     "data": {
      "text/plain": [
       "1"
      ]
     },
     "execution_count": 25,
     "metadata": {},
     "output_type": "execute_result"
    }
   ],
   "source": [
    "len(df) #that means we have one row"
   ]
  },
  {
   "cell_type": "code",
   "execution_count": 26,
   "id": "82be572c",
   "metadata": {},
   "outputs": [
    {
     "data": {
      "text/plain": [
       "0    10800\n",
       "Name: timezone, dtype: int64"
      ]
     },
     "execution_count": 26,
     "metadata": {},
     "output_type": "execute_result"
    }
   ],
   "source": [
    "df[\"timezone\"]"
   ]
  },
  {
   "cell_type": "code",
   "execution_count": 27,
   "id": "86160521",
   "metadata": {},
   "outputs": [
    {
     "data": {
      "text/plain": [
       "0    [{'id': 804, 'main': 'Clouds', 'description': ...\n",
       "Name: weather, dtype: object"
      ]
     },
     "execution_count": 27,
     "metadata": {},
     "output_type": "execute_result"
    }
   ],
   "source": [
    "df[\"weather\"]"
   ]
  },
  {
   "cell_type": "code",
   "execution_count": 28,
   "id": "34a21d0c",
   "metadata": {},
   "outputs": [
    {
     "data": {
      "text/plain": [
       "0    296.46\n",
       "Name: main.temp_min, dtype: float64"
      ]
     },
     "execution_count": 28,
     "metadata": {},
     "output_type": "execute_result"
    }
   ],
   "source": [
    "df[\"main.temp_min\"]"
   ]
  },
  {
   "cell_type": "code",
   "execution_count": 29,
   "id": "a45ce538",
   "metadata": {},
   "outputs": [
    {
     "data": {
      "text/plain": [
       "298.18"
      ]
     },
     "execution_count": 29,
     "metadata": {},
     "output_type": "execute_result"
    }
   ],
   "source": [
    "df[\"main.temp_max\"].max()"
   ]
  },
  {
   "cell_type": "code",
   "execution_count": 30,
   "id": "50e3153a",
   "metadata": {},
   "outputs": [],
   "source": [
    "import matplotlib as plt #importing required library\n",
    "from matplotlib import pyplot as plt"
   ]
  },
  {
   "cell_type": "code",
   "execution_count": 31,
   "id": "f421861d",
   "metadata": {},
   "outputs": [
    {
     "data": {
      "image/png": "[encoded data removed]",
      "text/plain": [
       "<Figure size 640x480 with 1 Axes>"
      ]
     },
     "metadata": {},
     "output_type": "display_data"
    }
   ],
   "source": [
    "x=df[\"main.temp_min\"],df[\"main.temp_max\"]\n",
    "y=df[\"main.pressure\"],df[\"main.humidity\"]\n",
    "plt.plot(x,y) #set X-axis & Y-axise values\n",
    "plt.title(\"Info about Pressure & Humidity based on Temp\")\n",
    "plt.xlabel(\"Temp difference\")\n",
    "plt.ylabel(\"Pressure & humidity\")\n",
    "plt.show() #showing output \n",
    "# x,y"
   ]
  },
  {
   "cell_type": "markdown",
   "id": "9fb48555",
   "metadata": {},
   "source": [
    "Now visualize where actuallly we have more culex mosquitoes in our glob using GIS map"
   ]
  },
  {
   "cell_type": "code",
   "execution_count": 46,
   "id": "9306ea52",
   "metadata": {},
   "outputs": [
    {
     "data": {
      "application/vnd.jupyter.widget-view+json": {
       "model_id": "47be03aab36c4c18961ec154a3eebd15",
       "version_major": 2,
       "version_minor": 0
      },
      "text/plain": [
       "MapView(jupyter_target='notebook', layout=Layout(height='400px', width='100%'), ready=True)"
      ]
     },
     "metadata": {},
     "output_type": "display_data"
    },
    {
     "data": {
      "text/html": [
       "<div class=\"map-static-img-preview-6c581a19-3a52-43aa-bdf5-449d655c958f\"><img src=\"\"></img></div>"
      ],
      "text/plain": [
       "<IPython.core.display.HTML object>"
      ]
     },
     "metadata": {},
     "output_type": "display_data"
    },
    {
     "data": {
      "text/html": [
       "<div class=\"map-html-embed-preview-6c581a19-3a52-43aa-bdf5-449d655c958f\"></div>"
      ],
      "text/plain": [
       "<IPython.core.display.HTML object>"
      ]
     },
     "metadata": {},
     "output_type": "display_data"
    }
   ],
   "source": [
    "mosquito_search=myGIS.content.search(\"Culex Mosquitoes Spread West Nile Virus\")\n",
    "mosquito_search[0].id\n",
    "mosquito_layer=myGIS.content.get(mosquito_search[0].id)\n",
    "myMap.add_layer(mosquito_layer)\n",
    "myMap"
   ]
  },
  {
   "cell_type": "code",
   "execution_count": 33,
   "id": "a5583881",
   "metadata": {},
   "outputs": [
    {
     "data": {
      "application/vnd.jupyter.widget-view+json": {
       "model_id": "47be03aab36c4c18961ec154a3eebd15",
       "version_major": 2,
       "version_minor": 0
      },
      "text/plain": [
       "MapView(jupyter_target='notebook', layout=Layout(height='400px', width='100%'), ready=True)"
      ]
     },
     "metadata": {},
     "output_type": "display_data"
    },
    {
     "data": {
      "text/html": [
       "<div class=\"map-static-img-preview-6c581a19-3a52-43aa-bdf5-449d655c958f\"><img src=\"\"></img></div>"
      ],
      "text/plain": [
       "<IPython.core.display.HTML object>"
      ]
     },
     "metadata": {},
     "output_type": "display_data"
    },
    {
     "data": {
      "text/html": [
       "<div class=\"map-html-embed-preview-6c581a19-3a52-43aa-bdf5-449d655c958f\"></div>"
      ],
      "text/plain": [
       "<IPython.core.display.HTML object>"
      ]
     },
     "metadata": {},
     "output_type": "display_data"
    }
   ],
   "source": [
    "mosquito_search1=myGIS.content.search(\"Culex Mosquitoes Spread West Nile Virus\")\n",
    "mosquito_search1[0].id\n",
    "new9=myGIS.content.get(mosquito_search1[0].id)\n",
    "myMap.add_layer(new9)\n",
    "myMap"
   ]
  },
  {
   "cell_type": "markdown",
   "id": "1b9bdbed",
   "metadata": {},
   "source": [
    "MAXINT TOOL"
   ]
  },
  {
   "cell_type": "code",
   "execution_count": 34,
   "id": "c5e1f0e9",
   "metadata": {},
   "outputs": [
    {
     "name": "stdout",
     "output_type": "stream",
     "text": [
      "Requirement already satisfied: scipy in ./Downloads/anaconda3/lib/python3.11/site-packages (1.11.1)\n",
      "Requirement already satisfied: numpy<1.28.0,>=1.21.6 in ./Downloads/anaconda3/lib/python3.11/site-packages (from scipy) (1.24.3)\n",
      "Note: you may need to restart the kernel to use updated packages.\n"
     ]
    }
   ],
   "source": [
    "pip install scipy"
   ]
  },
  {
   "cell_type": "code",
   "execution_count": 35,
   "id": "59f7592c",
   "metadata": {},
   "outputs": [],
   "source": [
    "from scipy.stats import entropy as en"
   ]
  },
  {
   "cell_type": "code",
   "execution_count": 36,
   "id": "68fcbe99",
   "metadata": {},
   "outputs": [
    {
     "data": {
      "text/plain": [
       "Index(['weather', 'base', 'visibility', 'dt', 'timezone', 'id', 'name', 'cod',\n",
       "       'coord.lon', 'coord.lat', 'main.temp', 'main.feels_like',\n",
       "       'main.temp_min', 'main.temp_max', 'main.pressure', 'main.humidity',\n",
       "       'main.sea_level', 'main.grnd_level', 'wind.speed', 'wind.deg',\n",
       "       'wind.gust', 'clouds.all', 'sys.type', 'sys.id', 'sys.country',\n",
       "       'sys.sunrise', 'sys.sunset'],\n",
       "      dtype='object')"
      ]
     },
     "execution_count": 36,
     "metadata": {},
     "output_type": "execute_result"
    }
   ],
   "source": [
    "df.columns"
   ]
  },
  {
   "cell_type": "code",
   "execution_count": 47,
   "id": "e93c02fb",
   "metadata": {},
   "outputs": [
    {
     "data": {
      "text/html": [
       "<div>\n",
       "<style scoped>\n",
       "    .dataframe tbody tr th:only-of-type {\n",
       "        vertical-align: middle;\n",
       "    }\n",
       "\n",
       "    .dataframe tbody tr th {\n",
       "        vertical-align: top;\n",
       "    }\n",
       "\n",
       "    .dataframe thead th {\n",
       "        text-align: right;\n",
       "    }\n",
       "</style>\n",
       "<table border=\"1\" class=\"dataframe\">\n",
       "  <thead>\n",
       "    <tr style=\"text-align: right;\">\n",
       "      <th></th>\n",
       "      <th>timezone</th>\n",
       "      <th>main.temp</th>\n",
       "      <th>main.pressure</th>\n",
       "      <th>main.humidity</th>\n",
       "      <th>wind.speed</th>\n",
       "      <th>sys.sunrise</th>\n",
       "      <th>sys.sunset</th>\n",
       "    </tr>\n",
       "  </thead>\n",
       "  <tbody>\n",
       "    <tr>\n",
       "      <th>0</th>\n",
       "      <td>10800</td>\n",
       "      <td>296.46</td>\n",
       "      <td>1011</td>\n",
       "      <td>74</td>\n",
       "      <td>2.82</td>\n",
       "      <td>1702869571</td>\n",
       "      <td>1702913906</td>\n",
       "    </tr>\n",
       "  </tbody>\n",
       "</table>\n",
       "</div>"
      ],
      "text/plain": [
       "   timezone  main.temp  main.pressure  main.humidity  wind.speed  sys.sunrise  \\\n",
       "0     10800     296.46           1011             74        2.82   1702869571   \n",
       "\n",
       "   sys.sunset  \n",
       "0  1702913906  "
      ]
     },
     "execution_count": 47,
     "metadata": {},
     "output_type": "execute_result"
    }
   ],
   "source": [
    "input_for_max_entropy=df[[\"timezone\",\"main.temp\",\"main.pressure\",\"main.humidity\",\"wind.speed\",\"sys.sunrise\",\"sys.sunset\"]]\n",
    "input_for_max_entropy"
   ]
  },
  {
   "cell_type": "code",
   "execution_count": 38,
   "id": "bfafec25",
   "metadata": {},
   "outputs": [],
   "source": [
    "import pandas as pd"
   ]
  },
  {
   "cell_type": "code",
   "execution_count": 39,
   "id": "924c8ba0",
   "metadata": {},
   "outputs": [
    {
     "data": {
      "text/html": [
       "<div>\n",
       "<style scoped>\n",
       "    .dataframe tbody tr th:only-of-type {\n",
       "        vertical-align: middle;\n",
       "    }\n",
       "\n",
       "    .dataframe tbody tr th {\n",
       "        vertical-align: top;\n",
       "    }\n",
       "\n",
       "    .dataframe thead th {\n",
       "        text-align: right;\n",
       "    }\n",
       "</style>\n",
       "<table border=\"1\" class=\"dataframe\">\n",
       "  <thead>\n",
       "    <tr style=\"text-align: right;\">\n",
       "      <th></th>\n",
       "      <th>timezone</th>\n",
       "      <th>main.temp</th>\n",
       "      <th>main.pressure</th>\n",
       "      <th>main.humidity</th>\n",
       "      <th>wind.speed</th>\n",
       "      <th>sys.sunrise</th>\n",
       "      <th>sys.sunset</th>\n",
       "    </tr>\n",
       "  </thead>\n",
       "  <tbody>\n",
       "    <tr>\n",
       "      <th>0</th>\n",
       "      <td>10800</td>\n",
       "      <td>296.46</td>\n",
       "      <td>1011</td>\n",
       "      <td>74</td>\n",
       "      <td>2.82</td>\n",
       "      <td>1702869571</td>\n",
       "      <td>1702913906</td>\n",
       "    </tr>\n",
       "  </tbody>\n",
       "</table>\n",
       "</div>"
      ],
      "text/plain": [
       "   timezone  main.temp  main.pressure  main.humidity  wind.speed  sys.sunrise  \\\n",
       "0     10800     296.46           1011             74        2.82   1702869571   \n",
       "\n",
       "   sys.sunset  \n",
       "0  1702913906  "
      ]
     },
     "execution_count": 39,
     "metadata": {},
     "output_type": "execute_result"
    }
   ],
   "source": [
    "input_for_max_entropy.iloc[:1]"
   ]
  },
  {
   "cell_type": "code",
   "execution_count": 40,
   "id": "9f0cf8c4",
   "metadata": {},
   "outputs": [
    {
     "data": {
      "text/plain": [
       "[10800, 292.98, 1014, 90, 1.74, 1702696716, 1702741048]"
      ]
     },
     "execution_count": 40,
     "metadata": {},
     "output_type": "execute_result"
    }
   ],
   "source": [
    "inputs=[10800,292.98,1014,90,1.74,1702696716,1702741048]\n",
    "inputs"
   ]
  },
  {
   "cell_type": "code",
   "execution_count": 41,
   "id": "a1818509",
   "metadata": {},
   "outputs": [
    {
     "data": {
      "text/plain": [
       "0    1.080000e+04\n",
       "1    2.929800e+02\n",
       "2    1.014000e+03\n",
       "3    9.000000e+01\n",
       "4    1.740000e+00\n",
       "5    1.702697e+09\n",
       "6    1.702741e+09\n",
       "dtype: float64"
      ]
     },
     "execution_count": 41,
     "metadata": {},
     "output_type": "execute_result"
    }
   ],
   "source": [
    "inputs=pd.Series(inputs)\n",
    "inputs"
   ]
  },
  {
   "cell_type": "code",
   "execution_count": 42,
   "id": "9870b9ea",
   "metadata": {},
   "outputs": [
    {
     "data": {
      "text/plain": [
       "1.080000e+04    1\n",
       "2.929800e+02    1\n",
       "1.014000e+03    1\n",
       "9.000000e+01    1\n",
       "1.740000e+00    1\n",
       "1.702697e+09    1\n",
       "1.702741e+09    1\n",
       "Name: count, dtype: int64"
      ]
     },
     "execution_count": 42,
     "metadata": {},
     "output_type": "execute_result"
    }
   ],
   "source": [
    "inputs.value_counts()"
   ]
  },
  {
   "cell_type": "markdown",
   "id": "e8c4e244",
   "metadata": {},
   "source": [
    "NOW FIND THE MAXENT->MAXIMUM ENTROPY"
   ]
  },
  {
   "cell_type": "code",
   "execution_count": 43,
   "id": "9fea5ce3",
   "metadata": {},
   "outputs": [
    {
     "data": {
      "text/plain": [
       "1.945910149055313"
      ]
     },
     "execution_count": 43,
     "metadata": {},
     "output_type": "execute_result"
    }
   ],
   "source": [
    "maxent=en(inputs.value_counts())\n",
    "maxent"
   ]
  },
  {
   "cell_type": "code",
   "execution_count": 44,
   "id": "dade184f",
   "metadata": {},
   "outputs": [
    {
     "data": {
      "application/vnd.jupyter.widget-view+json": {
       "model_id": "6c0b03d48e7c457ca8c9faaf093246e2",
       "version_major": 2,
       "version_minor": 0
      },
      "text/plain": [
       "MapView(layout=Layout(height='400px', width='100%'))"
      ]
     },
     "metadata": {},
     "output_type": "display_data"
    },
    {
     "data": {
      "text/html": [
       "<div class=\"map-static-img-preview-41859451-910e-4abe-9bd9-95510f45fac4\"><img src=\"\"></img></div>"
      ],
      "text/plain": [
       "<IPython.core.display.HTML object>"
      ]
     },
     "metadata": {},
     "output_type": "display_data"
    },
    {
     "data": {
      "text/html": [
       "<div class=\"map-html-embed-preview-41859451-910e-4abe-9bd9-95510f45fac4\"></div>"
      ],
      "text/plain": [
       "<IPython.core.display.HTML object>"
      ]
     },
     "metadata": {},
     "output_type": "display_data"
    }
   ],
   "source": [
    "myGIS=GIS()\n",
    "# myMap=myGIS.map(\"Texas\")\n",
    "myMap3=myGIS.map(\"Texas A&M University Corpus Christi\",maxent)\n",
    "myMap3"
   ]
  },
  {
   "cell_type": "code",
   "execution_count": 45,
   "id": "1eff8cf1",
   "metadata": {},
   "outputs": [
    {
     "data": {
      "application/vnd.jupyter.widget-view+json": {
       "model_id": "47be03aab36c4c18961ec154a3eebd15",
       "version_major": 2,
       "version_minor": 0
      },
      "text/plain": [
       "MapView(jupyter_target='notebook', layout=Layout(height='400px', width='100%'), ready=True)"
      ]
     },
     "metadata": {},
     "output_type": "display_data"
    },
    {
     "data": {
      "text/html": [
       "<div class=\"map-static-img-preview-6c581a19-3a52-43aa-bdf5-449d655c958f\"><img src=\"\"></img></div>"
      ],
      "text/plain": [
       "<IPython.core.display.HTML object>"
      ]
     },
     "metadata": {},
     "output_type": "display_data"
    },
    {
     "data": {
      "text/html": [
       "<div class=\"map-html-embed-preview-6c581a19-3a52-43aa-bdf5-449d655c958f\"></div>"
      ],
      "text/plain": [
       "<IPython.core.display.HTML object>"
      ]
     },
     "metadata": {},
     "output_type": "display_data"
    }
   ],
   "source": [
    "mosquito_search1=myGIS.content.search(\"Culex Mosquitoes Spread West Nile Virus\")\n",
    "mosquito_search1[0].id\n",
    "new9=myGIS.content.get(mosquito_search1[0].id)\n",
    "myMap.add_layer(new9)\n",
    "myMap"
   ]
  },
  {
   "cell_type": "code",
   "execution_count": null,
   "id": "d99047bb",
   "metadata": {},
   "outputs": [],
   "source": []
  },
  {
   "cell_type": "code",
   "execution_count": null,
   "id": "b4fd0a5d",
   "metadata": {},
   "outputs": [],
   "source": []
  },
  {
   "cell_type": "code",
   "execution_count": null,
   "id": "26946193",
   "metadata": {},
   "outputs": [],
   "source": []
  },
  {
   "cell_type": "code",
   "execution_count": null,
   "id": "cd6dc8f0",
   "metadata": {},
   "outputs": [],
   "source": []
  },
  {
   "cell_type": "code",
   "execution_count": null,
   "id": "14bcf015",
   "metadata": {},
   "outputs": [],
   "source": []
  },
  {
   "cell_type": "code",
   "execution_count": 35,
   "id": "2222fc2c",
   "metadata": {},
   "outputs": [
    {
     "name": "stdout",
     "output_type": "stream",
     "text": [
      "Requirement already satisfied: json2excel in ./Downloads/anaconda3/lib/python3.11/site-packages (1.0.4)\n",
      "Requirement already satisfied: openpyxl==2.6.2 in ./Downloads/anaconda3/lib/python3.11/site-packages (from json2excel) (2.6.2)\n",
      "Requirement already satisfied: jdcal in ./Downloads/anaconda3/lib/python3.11/site-packages (from openpyxl==2.6.2->json2excel) (1.4.1)\n",
      "Requirement already satisfied: et-xmlfile in ./Downloads/anaconda3/lib/python3.11/site-packages (from openpyxl==2.6.2->json2excel) (1.1.0)\n",
      "Note: you may need to restart the kernel to use updated packages.\n"
     ]
    }
   ],
   "source": [
    "pip install json2excel"
   ]
  },
  {
   "cell_type": "code",
   "execution_count": 36,
   "id": "1e440bb3",
   "metadata": {},
   "outputs": [
    {
     "name": "stdout",
     "output_type": "stream",
     "text": [
      "Requirement already satisfied: Json2Excel in ./Downloads/anaconda3/lib/python3.11/site-packages (1.0.4)\n",
      "Requirement already satisfied: openpyxl==2.6.2 in ./Downloads/anaconda3/lib/python3.11/site-packages (from Json2Excel) (2.6.2)\n",
      "Requirement already satisfied: jdcal in ./Downloads/anaconda3/lib/python3.11/site-packages (from openpyxl==2.6.2->Json2Excel) (1.4.1)\n",
      "Requirement already satisfied: et-xmlfile in ./Downloads/anaconda3/lib/python3.11/site-packages (from openpyxl==2.6.2->Json2Excel) (1.1.0)\n",
      "Note: you may need to restart the kernel to use updated packages.\n"
     ]
    }
   ],
   "source": [
    "pip install Json2Excel"
   ]
  },
  {
   "cell_type": "code",
   "execution_count": 37,
   "id": "e4b6f3a3",
   "metadata": {},
   "outputs": [
    {
     "name": "stdout",
     "output_type": "stream",
     "text": [
      "temp in Texas: 14.78.C or 58.604000000000056 F\n",
      "temp in Texas feels_like: 13.07.C or 55.526000000000096.F\n",
      "humidity in Texas: 29%\n",
      "wind speed in Texas: 1.54m/s\n",
      "general weather in Texas: clear sky\n",
      "sunrise in Texas at 2023-12-03 07:19:40 local time\n",
      "sunset in Texas at 2023-12-03 17:34:13 local time\n"
     ]
    }
   ],
   "source": [
    "base_url=\"http://api.openweathermap.org/data/2.5/weather?\" # this is openweather home HTTP request\n",
    "api_key=\"fcb6d6b7745e37f3a39021b99da4aaab\" # This is my Api key for open weather GIS\n",
    "city=\"Texas\" # Here i am taking weather report for texas city \n",
    "\n",
    "def kel_cel_fahrenheit(kelvin):\n",
    "    celsius=kelvin-273.15\n",
    "    fahrenheit=celsius*(9/5)+32\n",
    "    return celsius,fahrenheit\n",
    "\n",
    "url=base_url+\"appid=\"+api_key+\"&q=\"+city\n",
    "# response=requests .get(url).json()\n",
    "response=requests .get(url).json()\n",
    "\n",
    "temp_kel=response ['main']['temp']\n",
    "temp_celsius,temp_fahrenheit=kel_cel_fahrenheit(temp_kel)\n",
    "feels_like_kelvin=response['main']['feels_like']\n",
    "feels_like_celsius,feels_like_fahrenheit=kel_cel_fahrenheit(feels_like_kelvin)\n",
    "wind_speed=response['wind']['speed']\n",
    "humidity=response['main']['humidity']\n",
    "description=response['weather'][0]['description'] \n",
    "sunrise_time=dt.datetime.utcfromtimestamp(response['sys']['sunrise']+response['timezone'])\n",
    "sunset_time=dt.datetime.utcfromtimestamp(response['sys']['sunset']+response['timezone'])\n",
    "\n",
    "print(f\"temp in {city}: {temp_celsius:.2f}.C or {temp_fahrenheit} F\")\n",
    "print(f\"temp in {city} feels_like: {feels_like_celsius:.2f}.C or {feels_like_fahrenheit}.F\")\n",
    "print(f\"humidity in {city}: {humidity}%\")\n",
    "print(f\"wind speed in {city}: {wind_speed}m/s\")\n",
    "print(f\"general weather in {city}: {description}\")\n",
    "print(f\"sunrise in {city} at {sunrise_time} local time\")\n",
    "print(f\"sunset in {city} at {sunset_time} local time\")\n"
   ]
  },
  {
   "cell_type": "markdown",
   "id": "27fa75e1",
   "metadata": {},
   "source": [
    "DONE BY,\n",
    "\n",
    "ANIL VALLEPU\n",
    "\n",
    "SAI SANDEEP ADI\n",
    "\n",
    "MS IN DATA SCIENCE"
   ]
  }
 ],
 "metadata": {
  "kernelspec": {
   "display_name": "Python 3 (ipykernel)",
   "language": "python",
   "name": "python3"
  },
  "language_info": {
   "codemirror_mode": {
    "name": "ipython",
    "version": 3
   },
   "file_extension": ".py",
   "mimetype": "text/x-python",
   "name": "python",
   "nbconvert_exporter": "python",
   "pygments_lexer": "ipython3",
   "version": "3.11.5"
  }
 },
 "nbformat": 4,
 "nbformat_minor": 5
}
